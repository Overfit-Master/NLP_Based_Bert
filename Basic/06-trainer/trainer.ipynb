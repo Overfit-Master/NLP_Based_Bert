{
 "cells": [
  {
   "cell_type": "markdown",
   "source": [
    "# Trainer简介\n",
    "1. 输入输出有限制，模型返回结果需要为元组 or ModelOutput的子类\n",
    "2. 若提供labels，则一定需要返回loss，若返回值为元组，loss要在第一个值"
   ],
   "metadata": {
    "collapsed": false
   }
  },
  {
   "cell_type": "code",
   "execution_count": null,
   "outputs": [],
   "source": [],
   "metadata": {
    "collapsed": false
   }
  }
 ],
 "metadata": {
  "kernelspec": {
   "display_name": "Python 3",
   "language": "python",
   "name": "python3"
  },
  "language_info": {
   "codemirror_mode": {
    "name": "ipython",
    "version": 2
   },
   "file_extension": ".py",
   "mimetype": "text/x-python",
   "name": "python",
   "nbconvert_exporter": "python",
   "pygments_lexer": "ipython2",
   "version": "2.7.6"
  }
 },
 "nbformat": 4,
 "nbformat_minor": 0
}
